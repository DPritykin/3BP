{
 "cells": [
  {
   "cell_type": "markdown",
   "id": "68ec2b6a",
   "metadata": {},
   "source": [
    "The distance from $L_2$ to the baricenter of system is given by the positive solution of the following equation:\n",
    "$$\\gamma - (1 - \\mu)/(\\gamma + \\mu)^2 - \\mu/(\\gamma - 1 + \\mu)^2,$$\n",
    "\n",
    "$$\\mu = \\frac{M_s}{M_p + M_s},$$\n",
    "where $M_p$ and $M_s$ denote the masses of the primary and the secondary (smaller of the two primaries) body, respectively.\n",
    "\n",
    "The equations of motion in the barycentric reference frame (nondimentionlized) [1]:\n",
    "\\begin{align}\n",
    "\\ddot{x} - 2\\dot{y} - x &= - \\frac{(1-\\mu)(x+\\mu)}{r_p^3} - \\frac{\\mu(x-(1-\\mu))}{r_s^3}, \\\\\n",
    "\\ddot{y} + 2\\dot{x} - y &= - \\frac{(1-\\mu)y}{r_p^3} - \\frac{\\mu y}{r_s^3}, \\\\\n",
    "\\ddot{z} &= - \\frac{(1-\\mu)z}{r_p^3} - \\frac{\\mu z}{r_s^3},\n",
    "\\end{align}\n",
    "where\n",
    "$$r_p = \\sqrt{(x+\\mu)^2 + y^2 + z^2}, \\quad r_s = \\sqrt{(x-(1-\\mu))^2 + y^2 + z^2}.$$ \n",
    "\n",
    "The distance between the two primaries is 1, the reference frame origin is based in the system's baricenter.\n",
    "The conversion from units of distance, velocity, and time in the unprimed, normalized system to the primed, dimensionalized system is:\n",
    "\\begin{align}\n",
    "d' &= L\\cdot d, \\\\\n",
    "s' &= V\\cdot s, \\\\\n",
    "t' &= \\frac{T}{2\\pi}t,\n",
    "\\end{align}\n",
    "where $L$ is the distance between the centers of $M_P$ and $M_S$, $V$ is the orbital velocity of $M_S$, $T$ is the orbital period of $M_P$ and $M_S$."
   ]
  },
  {
   "cell_type": "code",
   "execution_count": null,
   "id": "a2e2922e",
   "metadata": {},
   "outputs": [],
   "source": [
    "import numpy as np\n",
    "import matplotlib.pyplot as plt\n",
    "\n",
    "import env.cr3bp as cr3bp"
   ]
  },
  {
   "cell_type": "markdown",
   "id": "64b77e03",
   "metadata": {},
   "source": [
    "\n",
    "The following constants (for the Earth-Moon system) are used below:\n",
    "    $$\\mu = 1.215\\cdot10^{-2},  [1]$$\n",
    "    $$L_2 = 1.556825,  [2]$$\n",
    "\n",
    "[1] Dynamical Systems, the Three-Body Problem and Space Mission Design, http://www.cds.caltech.edu/~marsden/volume/missiondesign/KoLoMaRo_DMissionBk.pdf\n",
    "\n",
    "[2] Libration point orbits and manifolds: design and station-keeping, \n",
    "http://www.mathnet.ru/links/d214da1304703fe544f855e9ed635481/ipmp1942.pdf"
   ]
  },
  {
   "cell_type": "code",
   "execution_count": null,
   "id": "40ad8c4b",
   "metadata": {},
   "outputs": [],
   "source": [
    "em3bp = cr3bp.CR3BP('EM')\n",
    "\n",
    "\n",
    "l2_x = em3bp.get_L2_quintic()\n",
    "\n",
    "em3bp.mu, l2_x"
   ]
  },
  {
   "cell_type": "code",
   "execution_count": null,
   "id": "cfc8e192",
   "metadata": {},
   "outputs": [],
   "source": [
    "time = cr3bp.Parameters()\n",
    "time.begin = 0\n",
    "time.end = 10\n",
    "time.dt = 0.05\n",
    "\n",
    "rP_0 = [l2_x, 0, 0]\n",
    "vP_0 = [0, 0, 0]\n",
    "r_0 = rP_0 + vP_0\n",
    "\n",
    "t_sol = np.arange(time.begin, time.end, time.dt)\n",
    "\n",
    "r_sol = em3bp.integrate(r_0, t_sol)"
   ]
  },
  {
   "cell_type": "code",
   "execution_count": null,
   "id": "62a9d152",
   "metadata": {
    "scrolled": true
   },
   "outputs": [],
   "source": [
    "plt.plot(r_sol[:, 0] - r_sol[0, 0])\n",
    "plt.plot(r_sol[:, 1] - r_sol[0, 1])\n",
    "plt.plot(r_sol[:, 2] - r_sol[0, 2])"
   ]
  },
  {
   "cell_type": "markdown",
   "id": "d3baaebd",
   "metadata": {},
   "source": [
    "## Jacobi Integral\n",
    "\n",
    "<font size=\"3\">The equations of motion admit the first integral known as Jacobi integral, which is given by:</font>\n",
    "\n",
    "### $C = v_x^2 + v_y^2 + v_z^2 - 2U.$\n",
    "\n",
    "<font size=\"3\"> The plot below shows the relative error of $C$.</font>"
   ]
  },
  {
   "cell_type": "code",
   "execution_count": null,
   "id": "ea880579",
   "metadata": {},
   "outputs": [],
   "source": [
    "_, rel_error = em3bp.get_jacobi_const(t_sol, r_sol)    \n",
    "    \n",
    "plt.plot(t_sol, rel_error)\n",
    "plt.ticklabel_format(useOffset = False)"
   ]
  }
 ],
 "metadata": {
  "kernelspec": {
   "display_name": "Python 3 (ipykernel)",
   "language": "python",
   "name": "python3"
  },
  "language_info": {
   "codemirror_mode": {
    "name": "ipython",
    "version": 3
   },
   "file_extension": ".py",
   "mimetype": "text/x-python",
   "name": "python",
   "nbconvert_exporter": "python",
   "pygments_lexer": "ipython3",
   "version": "3.9.7"
  }
 },
 "nbformat": 4,
 "nbformat_minor": 5
}
